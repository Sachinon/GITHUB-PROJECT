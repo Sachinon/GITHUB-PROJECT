{
 "cells": [
  {
   "cell_type": "markdown",
   "id": "9c892aeb-cc7c-4612-836d-3d68f75cdc26",
   "metadata": {},
   "source": [
    "**FINAL PROJECT FOR TOOLS FOR DATA SCIENCE **"
   ]
  },
  {
   "cell_type": "markdown",
   "id": "f5b084ed-5bd7-4e56-9e0f-abdf0b3065a0",
   "metadata": {},
   "source": [
    "#HEY THERE FELLOE LEARNERS HOPE YOU ALL ARE DOING GOOD, KEEP UP THE GOOD WORK"
   ]
  },
  {
   "cell_type": "markdown",
   "id": "4b58332c-8413-425c-9e89-80fa03abaa72",
   "metadata": {},
   "source": [
    "#LIST CONTAING LANGUAGES FOR DATA SCIENCE\n",
    "1. python\n",
    "2. R\n",
    "3. SQL\n"
   ]
  },
  {
   "cell_type": "markdown",
   "id": "8ca7d722-03c5-46ab-97b1-c7b3ed3a5dbd",
   "metadata": {},
   "source": [
    "#LIST CONTAING LIBRARIES FOR DATA SCIENCE\n",
    "1. NUMPY\n",
    "2. PANDAS\n"
   ]
  },
  {
   "cell_type": "markdown",
   "id": "a2e4c089-b17d-4a60-b033-54c29fdb2827",
   "metadata": {},
   "source": [
    "#TABLE OF TOOLS FOR DATA SCIENCE\n",
    "|TOOLS|FUNCTION|\n",
    "|-----|-----|\n",
    "|TABLEAU|VISUALIZATION|\n",
    "|MY SQL|DATA STORAGE|"
   ]
  },
  {
   "cell_type": "markdown",
   "id": "4bc8a043-e5a1-4ce4-86c7-d670ddec0674",
   "metadata": {},
   "source": [
    "#INTRODUCTION TO ARITHMETIC EXPRESSION\n",
    "FOR EX:2+2=4"
   ]
  },
  {
   "cell_type": "code",
   "execution_count": 18,
   "id": "842b6569-3c53-4c76-bfd1-c2a24383f105",
   "metadata": {},
   "outputs": [],
   "source": [
    "NUM1 = 15\n",
    "NUM2 = 12"
   ]
  },
  {
   "cell_type": "code",
   "execution_count": 19,
   "id": "e8e1bc0f-6985-4385-9bb3-777dceb4c988",
   "metadata": {},
   "outputs": [],
   "source": [
    "SUM=NUM1 + NUM2"
   ]
  },
  {
   "cell_type": "code",
   "execution_count": 20,
   "id": "d9c282dc-9d5c-4fa5-9cf7-466d6a99a91d",
   "metadata": {},
   "outputs": [
    {
     "name": "stdout",
     "output_type": "stream",
     "text": [
      "sum of 15 and 12 is 27\n"
     ]
    }
   ],
   "source": [
    "print(\"sum of {0} and {1} is {2}\" .format(NUM1, NUM2, SUM))"
   ]
  },
  {
   "cell_type": "code",
   "execution_count": 21,
   "id": "69b6c803-9867-4863-98a0-fcc610c26d01",
   "metadata": {},
   "outputs": [],
   "source": [
    "NUM1 = 2\n",
    "NUM2 = 4"
   ]
  },
  {
   "cell_type": "code",
   "execution_count": 24,
   "id": "db284c2a-ce66-42d8-9e66-de6484e2ad53",
   "metadata": {},
   "outputs": [],
   "source": [
    "PRODUCT=NUM1 * NUM2"
   ]
  },
  {
   "cell_type": "code",
   "execution_count": 26,
   "id": "e3e6cb64-264a-49cc-b19e-23e3e9fd46c0",
   "metadata": {},
   "outputs": [
    {
     "name": "stdout",
     "output_type": "stream",
     "text": [
      "8\n"
     ]
    }
   ],
   "source": [
    "print(PRODUCT)"
   ]
  },
  {
   "cell_type": "code",
   "execution_count": 27,
   "id": "c84183f1-339f-483f-8af5-9b68c0476841",
   "metadata": {},
   "outputs": [],
   "source": [
    "TOTAL_MINUTES = 130"
   ]
  },
  {
   "cell_type": "code",
   "execution_count": 28,
   "id": "025c52b2-0002-4ec8-8925-065dad76b153",
   "metadata": {},
   "outputs": [],
   "source": [
    "HOURS = TOTAL_MINUTES // 60"
   ]
  },
  {
   "cell_type": "code",
   "execution_count": 29,
   "id": "a1c03c50-9738-4776-9722-404215f58cab",
   "metadata": {},
   "outputs": [],
   "source": [
    "MINUTES = TOTAL_MINUTES % 60"
   ]
  },
  {
   "cell_type": "code",
   "execution_count": 34,
   "id": "25434d45-cb9f-463b-ab25-3cb2a70cf410",
   "metadata": {},
   "outputs": [],
   "source": [
    "TIME = \"{}:{}\" .format(HOURS, MINUTES)"
   ]
  },
  {
   "cell_type": "code",
   "execution_count": 37,
   "id": "44bc8a8c-f528-4daa-be6b-307a1ee6b1ea",
   "metadata": {},
   "outputs": [
    {
     "name": "stdout",
     "output_type": "stream",
     "text": [
      "2:10\n"
     ]
    }
   ],
   "source": [
    "print(TIME)"
   ]
  },
  {
   "cell_type": "markdown",
   "id": "63c234f3-acad-44d8-9df4-1f21f4cc28e3",
   "metadata": {},
   "source": [
    "**OBJECTIVES**\n",
    "- Create a Jupyter Notebook\n",
    "\n",
    "- Insert code and markdown cells\n",
    "\n",
    "- Share your notebook through GitHub"
   ]
  },
  {
   "cell_type": "code",
   "execution_count": null,
   "id": "5a1d1c2f-0a6e-4225-9559-2effa6e77ac1",
   "metadata": {},
   "outputs": [],
   "source": [
    "**"
   ]
  }
 ],
 "metadata": {
  "kernelspec": {
   "display_name": "Python",
   "language": "python",
   "name": "conda-env-python-py"
  },
  "language_info": {
   "codemirror_mode": {
    "name": "ipython",
    "version": 3
   },
   "file_extension": ".py",
   "mimetype": "text/x-python",
   "name": "python",
   "nbconvert_exporter": "python",
   "pygments_lexer": "ipython3",
   "version": "3.7.12"
  }
 },
 "nbformat": 4,
 "nbformat_minor": 5
}
